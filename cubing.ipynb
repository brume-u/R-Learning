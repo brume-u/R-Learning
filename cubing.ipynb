{
 "cells": [
  {
   "cell_type": "markdown",
   "metadata": {},
   "source": [
    "# Playing with our Rubik's Cube class"
   ]
  },
  {
   "cell_type": "markdown",
   "metadata": {},
   "source": [
    "#### This notebook shows how to use the Cube that we created in bleach_cube.py."
   ]
  },
  {
   "cell_type": "code",
   "execution_count": 1,
   "metadata": {},
   "outputs": [],
   "source": [
    "import bleach_cube"
   ]
  },
  {
   "cell_type": "markdown",
   "metadata": {},
   "source": [
    "Initialising our cube as perfectly solved."
   ]
  },
  {
   "cell_type": "code",
   "execution_count": 2,
   "metadata": {},
   "outputs": [
    {
     "name": "stdout",
     "output_type": "stream",
     "text": [
      "Up face\n",
      "['W', 'W', 'W']\n",
      "['W', 'W', 'W']\n",
      "['W', 'W', 'W']\n",
      "Front face\n",
      "['B', 'B', 'B']\n",
      "['B', 'B', 'B']\n",
      "['B', 'B', 'B']\n",
      "Right face\n",
      "['R', 'R', 'R']\n",
      "['R', 'R', 'R']\n",
      "['R', 'R', 'R']\n",
      "Back face\n",
      "['G', 'G', 'G']\n",
      "['G', 'G', 'G']\n",
      "['G', 'G', 'G']\n",
      "Left face\n",
      "['O', 'O', 'O']\n",
      "['O', 'O', 'O']\n",
      "['O', 'O', 'O']\n",
      "Down face\n",
      "['Y', 'Y', 'Y']\n",
      "['Y', 'Y', 'Y']\n",
      "['Y', 'Y', 'Y']\n",
      "\n"
     ]
    }
   ],
   "source": [
    "cube = bleach_cube.Cube()\n",
    "print(cube)"
   ]
  },
  {
   "cell_type": "markdown",
   "metadata": {},
   "source": [
    "Now lets try and scramble our cube a few times. Notice that a clockwise turn of a cube side 3 times is just an anticlockwise turn"
   ]
  },
  {
   "cell_type": "code",
   "execution_count": 4,
   "metadata": {},
   "outputs": [
    {
     "name": "stdout",
     "output_type": "stream",
     "text": [
      "\n",
      "Turns the F side clockwise of the cube 3 times\n",
      "\n",
      "Turns the D side clockwise of the cube 3 times\n",
      "\n",
      "Turns the L side clockwise of the cube 3 times\n",
      "\n",
      "Up face\n",
      "['B', 'W', 'W']\n",
      "['B', 'W', 'W']\n",
      "['Y', 'R', 'R']\n",
      "Front face\n",
      "['O', 'B', 'B']\n",
      "['O', 'B', 'B']\n",
      "['O', 'R', 'R']\n",
      "Right face\n",
      "['Y', 'R', 'R']\n",
      "['Y', 'R', 'R']\n",
      "['G', 'G', 'G']\n",
      "Back face\n",
      "['G', 'G', 'R']\n",
      "['G', 'G', 'W']\n",
      "['O', 'O', 'W']\n",
      "Left face\n",
      "['W', 'W', 'B']\n",
      "['O', 'O', 'B']\n",
      "['O', 'O', 'B']\n",
      "Down face\n",
      "['Y', 'Y', 'G']\n",
      "['Y', 'Y', 'G']\n",
      "['Y', 'Y', 'W']\n",
      "\n"
     ]
    }
   ],
   "source": [
    "scrambled_cube = bleach_cube.scramble(cube, 3, True)\n",
    "print()\n",
    "print(scrambled_cube)"
   ]
  },
  {
   "cell_type": "markdown",
   "metadata": {},
   "source": [
    "We shall now do a 20 turn scramble to get a better random cube."
   ]
  },
  {
   "cell_type": "code",
   "execution_count": 5,
   "metadata": {},
   "outputs": [
    {
     "name": "stdout",
     "output_type": "stream",
     "text": [
      "\n",
      "Up face\n",
      "['Y', 'W', 'G']\n",
      "['O', 'W', 'G']\n",
      "['W', 'B', 'Y']\n",
      "Front face\n",
      "['R', 'W', 'B']\n",
      "['B', 'B', 'W']\n",
      "['Y', 'Y', 'B']\n",
      "Right face\n",
      "['O', 'O', 'O']\n",
      "['G', 'R', 'O']\n",
      "['O', 'B', 'W']\n",
      "Back face\n",
      "['W', 'R', 'G']\n",
      "['W', 'G', 'O']\n",
      "['G', 'Y', 'R']\n",
      "Left face\n",
      "['R', 'Y', 'B']\n",
      "['B', 'O', 'R']\n",
      "['Y', 'G', 'O']\n",
      "Down face\n",
      "['R', 'R', 'B']\n",
      "['Y', 'Y', 'R']\n",
      "['W', 'G', 'G']\n",
      "\n"
     ]
    }
   ],
   "source": [
    "scrambled_2 = bleach_cube.scramble(cube, 20, False)\n",
    "print()\n",
    "print(scrambled_2)"
   ]
  },
  {
   "cell_type": "markdown",
   "metadata": {},
   "source": [
    "We can also use the operators manually."
   ]
  },
  {
   "cell_type": "code",
   "execution_count": 8,
   "metadata": {},
   "outputs": [
    {
     "name": "stdout",
     "output_type": "stream",
     "text": [
      "Turns the U side clockwise of the cube 1 times 0\n",
      "Turns the F side clockwise of the cube 1 times 1\n",
      "Turns the R side clockwise of the cube 1 times 2\n",
      "Turns the B side clockwise of the cube 1 times 3\n",
      "Turns the L side clockwise of the cube 1 times 4\n",
      "Turns the D side clockwise of the cube 1 times 5\n",
      "Turns the U side clockwise of the cube 3 times 6\n",
      "Turns the F side clockwise of the cube 3 times 7\n",
      "Turns the R side clockwise of the cube 3 times 8\n",
      "Turns the B side clockwise of the cube 3 times 9\n",
      "Turns the L side clockwise of the cube 3 times 10\n",
      "Turns the D side clockwise of the cube 3 times 11\n"
     ]
    }
   ],
   "source": [
    "operators = bleach_cube.OPERATORS\n",
    "\n",
    "for i, op in enumerate(operators):\n",
    "    print(op.name, i)"
   ]
  },
  {
   "cell_type": "code",
   "execution_count": 12,
   "metadata": {},
   "outputs": [
    {
     "name": "stdout",
     "output_type": "stream",
     "text": [
      "Turns the R side clockwise of the cube 1 times Up face\n",
      "['W', 'W', 'B']\n",
      "['W', 'W', 'B']\n",
      "['W', 'W', 'B']\n",
      "Front face\n",
      "['B', 'B', 'Y']\n",
      "['B', 'B', 'Y']\n",
      "['B', 'B', 'Y']\n",
      "Right face\n",
      "['R', 'R', 'R']\n",
      "['R', 'R', 'R']\n",
      "['R', 'R', 'R']\n",
      "Back face\n",
      "['W', 'G', 'G']\n",
      "['W', 'G', 'G']\n",
      "['W', 'G', 'G']\n",
      "Left face\n",
      "['O', 'O', 'O']\n",
      "['O', 'O', 'O']\n",
      "['O', 'O', 'O']\n",
      "Down face\n",
      "['G', 'Y', 'Y']\n",
      "['G', 'Y', 'Y']\n",
      "['G', 'Y', 'Y']\n",
      "\n",
      "\n",
      "Turns the R side clockwise of the cube 3 times Up face\n",
      "['W', 'W', 'G']\n",
      "['W', 'W', 'G']\n",
      "['W', 'W', 'G']\n",
      "Front face\n",
      "['B', 'B', 'W']\n",
      "['B', 'B', 'W']\n",
      "['B', 'B', 'W']\n",
      "Right face\n",
      "['R', 'R', 'R']\n",
      "['R', 'R', 'R']\n",
      "['R', 'R', 'R']\n",
      "Back face\n",
      "['Y', 'G', 'G']\n",
      "['Y', 'G', 'G']\n",
      "['Y', 'G', 'G']\n",
      "Left face\n",
      "['O', 'O', 'O']\n",
      "['O', 'O', 'O']\n",
      "['O', 'O', 'O']\n",
      "Down face\n",
      "['B', 'Y', 'Y']\n",
      "['B', 'Y', 'Y']\n",
      "['B', 'Y', 'Y']\n",
      "\n"
     ]
    }
   ],
   "source": [
    "right1 = operators[2]\n",
    "right3 = operators[8]\n",
    "\n",
    "\n",
    "print(right1, right1(cube))\n",
    "print()\n",
    "print(right3, right3(cube))"
   ]
  },
  {
   "cell_type": "code",
   "execution_count": 14,
   "metadata": {},
   "outputs": [
    {
     "name": "stdout",
     "output_type": "stream",
     "text": [
      "Turns the R side clockwise of the cube 1 times\n",
      "Turns the R side clockwise of the cube 3 times\n",
      "Up face\n",
      "['W', 'W', 'W']\n",
      "['W', 'W', 'W']\n",
      "['W', 'W', 'W']\n",
      "Front face\n",
      "['B', 'B', 'B']\n",
      "['B', 'B', 'B']\n",
      "['B', 'B', 'B']\n",
      "Right face\n",
      "['R', 'R', 'R']\n",
      "['R', 'R', 'R']\n",
      "['R', 'R', 'R']\n",
      "Back face\n",
      "['G', 'G', 'G']\n",
      "['G', 'G', 'G']\n",
      "['G', 'G', 'G']\n",
      "Left face\n",
      "['O', 'O', 'O']\n",
      "['O', 'O', 'O']\n",
      "['O', 'O', 'O']\n",
      "Down face\n",
      "['Y', 'Y', 'Y']\n",
      "['Y', 'Y', 'Y']\n",
      "['Y', 'Y', 'Y']\n",
      "\n"
     ]
    }
   ],
   "source": [
    "print(right1) \n",
    "print(right3)\n",
    "print(right3(right1(cube)))"
   ]
  },
  {
   "cell_type": "code",
   "execution_count": null,
   "metadata": {},
   "outputs": [],
   "source": []
  }
 ],
 "metadata": {
  "kernelspec": {
   "display_name": "Python 3",
   "language": "python",
   "name": "python3"
  },
  "language_info": {
   "codemirror_mode": {
    "name": "ipython",
    "version": 3
   },
   "file_extension": ".py",
   "mimetype": "text/x-python",
   "name": "python",
   "nbconvert_exporter": "python",
   "pygments_lexer": "ipython3",
   "version": "3.7.4"
  }
 },
 "nbformat": 4,
 "nbformat_minor": 2
}
